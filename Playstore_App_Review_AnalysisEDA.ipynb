{
  "nbformat": 4,
  "nbformat_minor": 0,
  "metadata": {
    "colab": {
      "private_outputs": true,
      "provenance": [],
      "collapsed_sections": [
        "FJNUwmbgGyua",
        "w6K7xa23Elo4",
        "mDgbUHAGgjLW",
        "O2TQYQZtJmvD",
        "56G69N0yJXQf",
        "Gf-zVMND8IkW",
        "VsOkzLhiGNkw",
        "_4jy953tI4VV",
        "8G2x9gOozGDZ",
        "gCX9965dhzqZ",
        "gIfDvo9L0UH2"
      ]
    },
    "kernelspec": {
      "name": "python3",
      "display_name": "Python 3"
    },
    "language_info": {
      "name": "python"
    }
  },
  "cells": [
    {
      "cell_type": "markdown",
      "source": [
        "# **Project Name**    - \n",
        "\n"
      ],
      "metadata": {
        "id": "vncDsAP0Gaoa"
      }
    },
    {
      "cell_type": "markdown",
      "source": [
        "##### **Project Type**    -  Play Store App Review Analysis EDA\n",
        "##### **Contribution**    -  Team\n",
        "##### **Team Member 1 -** Gautam Patil\n",
        "##### **Team Member 2 -** Prajakta Maharekar\n",
        "##### **Team Member 3 -** Arnab Panigrahi\n",
        "##### **Team Member 4 -** Saurabh Attarde\n",
        "##### **Team Member 5 -** Yadu Krishna"
      ],
      "metadata": {
        "id": "beRrZCGUAJYm"
      }
    },
    {
      "cell_type": "markdown",
      "source": [
        "## **Project Summary -**"
      ],
      "metadata": {
        "id": "FJNUwmbgGyua"
      }
    },
    {
      "cell_type": "markdown",
      "source": [
        "## **Playstore App Review Analysis Summary**\n",
        "\n",
        "Google Play, also known as the Google Play Store and formerly the Android Market, is a digital distribution service operated and developed by Google.\n",
        "It allows users to browse and download applications developed with the Android software development kit (SDK) and published through Google. Google Play has also served as a digital media store, offering games, music, books, movies, and television programs.\n",
        "Top apps with most installs and positive reviews"
      ],
      "metadata": {
        "id": "F6v_1wHtG2nS"
      }
    },
    {
      "cell_type": "markdown",
      "source": [
        "# **GitHub Link -**"
      ],
      "metadata": {
        "id": "w6K7xa23Elo4"
      }
    },
    {
      "cell_type": "markdown",
      "source": [
        "Provide your GitHub Link here."
      ],
      "metadata": {
        "id": "h1o69JH3Eqqn"
      }
    },
    {
      "cell_type": "markdown",
      "source": [
        "# **Problem Statement**\n"
      ],
      "metadata": {
        "id": "yQaldy8SH6Dl"
      }
    },
    {
      "cell_type": "markdown",
      "source": [
        "The Play Store offers a tonne of potential, but in order for developers to build a successful business, they must research the market for the critical elements that influence app success and engagement. The insights can be obtained by applying Data Wrangling tools, and with the aid of those Key Factors, the developers would have a comprehensive understanding of the industry."
      ],
      "metadata": {
        "id": "DpeJGUA3kjGy"
      }
    },
    {
      "cell_type": "markdown",
      "source": [
        "#### **Define Your Business Objective?**"
      ],
      "metadata": {
        "id": "PH-0ReGfmX4f"
      }
    },
    {
      "cell_type": "markdown",
      "source": [
        "Answer Here."
      ],
      "metadata": {
        "id": "PhDvGCAqmjP1"
      }
    },
    {
      "cell_type": "markdown",
      "source": [
        "# **General Guidelines** : -  "
      ],
      "metadata": {
        "id": "mDgbUHAGgjLW"
      }
    },
    {
      "cell_type": "markdown",
      "source": [
        "1.   Well-structured, formatted, and commented code is required. \n",
        "2.   Exception Handling, Production Grade Code & Deployment Ready Code will be a plus. Those students will be awarded some additional credits. \n",
        "     \n",
        "     The additional credits will have advantages over other students during Star Student selection.\n",
        "       \n",
        "             [ Note: - Deployment Ready Code is defined as, the whole .ipynb notebook should be executable in one go\n",
        "                       without a single error logged. ]\n",
        "\n",
        "3.   Each and every logic should have proper comments.\n",
        "4. You may add as many number of charts you want. Make Sure for each and every chart the following format should be answered.\n",
        "        \n",
        "\n",
        "```\n",
        "# Chart visualization code\n",
        "```\n",
        "            \n",
        "\n",
        "*   Why did you pick the specific chart?\n",
        "*   What is/are the insight(s) found from the chart?\n",
        "* Will the gained insights help creating a positive business impact? \n",
        "Are there any insights that lead to negative growth? Justify with specific reason.\n",
        "\n",
        "5. You have to create at least 20 logical & meaningful charts having important insights.\n",
        "\n",
        "\n",
        "[ Hints : - Do the Vizualization in  a structured way while following \"UBM\" Rule. \n",
        "\n",
        "U - Univariate Analysis,\n",
        "\n",
        "B - Bivariate Analysis (Numerical - Categorical, Numerical - Numerical, Categorical - Categorical)\n",
        "\n",
        "M - Multivariate Analysis\n",
        " ]\n",
        "\n",
        "\n",
        "\n"
      ],
      "metadata": {
        "id": "ZrxVaUj-hHfC"
      }
    },
    {
      "cell_type": "markdown",
      "source": [
        "# ***1. Know Your Data***"
      ],
      "metadata": {
        "id": "HhfV-JJviCcP"
      }
    },
    {
      "cell_type": "code",
      "source": [
        "# Import Libraries\n",
        "import numpy as np\n",
        "import pandas as pd\n",
        "import matplotlib.pyplot as plt\n",
        "import seaborn as sns\n",
        "import ast"
      ],
      "metadata": {
        "id": "M8Vqi-pPk-HR"
      },
      "execution_count": null,
      "outputs": []
    },
    {
      "cell_type": "code",
      "source": [
        "from google.colab import drive\n",
        "drive.mount('/content/drive')"
      ],
      "metadata": {
        "id": "KVtNK6w3mpmY"
      },
      "execution_count": null,
      "outputs": []
    },
    {
      "cell_type": "code",
      "source": [
        "# Load Dataset\n",
        "app_df = pd.read_csv('/content/drive/MyDrive/Datasets/Play Store Data.csv')\n",
        "rev_df = pd.read_csv('/content/drive/MyDrive/Datasets/User Reviews.csv')"
      ],
      "metadata": {
        "id": "4CkvbW_SlZ_R"
      },
      "execution_count": null,
      "outputs": []
    },
    {
      "cell_type": "code",
      "source": [
        "# Creating the copy of Original Dastaset\n",
        "app = app_df.copy()\n",
        "rev = rev_df.copy()"
      ],
      "metadata": {
        "id": "AmcuktXmUONo"
      },
      "execution_count": null,
      "outputs": []
    },
    {
      "cell_type": "code",
      "source": [
        "# Displaying the first 5 Rows\n",
        "app.head().T"
      ],
      "metadata": {
        "id": "LWNFOSvLl09H"
      },
      "execution_count": null,
      "outputs": []
    },
    {
      "cell_type": "code",
      "source": [
        "# Displaying the last 5 Rows\n",
        "app.tail().T"
      ],
      "metadata": {
        "id": "HHuh8Z3FUC0Y"
      },
      "execution_count": null,
      "outputs": []
    },
    {
      "cell_type": "code",
      "source": [
        "# Dataset Rows and Columns\n",
        "app.shape"
      ],
      "metadata": {
        "id": "Kllu7SJgmLij"
      },
      "execution_count": null,
      "outputs": []
    },
    {
      "cell_type": "code",
      "source": [
        "# Dataset Information\n",
        "app.info()"
      ],
      "metadata": {
        "id": "e9hRXRi6meOf"
      },
      "execution_count": null,
      "outputs": []
    },
    {
      "cell_type": "code",
      "source": [
        "# Missing Values count\n",
        "app.isnull().sum()"
      ],
      "metadata": {
        "id": "GgHWkxvamxVg"
      },
      "execution_count": null,
      "outputs": []
    },
    {
      "cell_type": "code",
      "source": [
        "# Missing Values Heatmap\n",
        "cmap = sns.diverging_palette(220, 10, as_cmap=True)\n",
        "fig, ax = plt.subplots(figsize=(10, 8))\n",
        "sns.set(font_scale=1.2)\n",
        "sns.heatmap(app.isnull(), cmap=cmap, cbar=False, ax=ax)\n",
        "ax.set_title('Missing Values in App DataFrame')\n",
        "plt.xticks(rotation = 75)\n",
        "ax.set_xlabel('Column')\n",
        "ax.set_ylabel('Row')\n",
        "plt.show()"
      ],
      "metadata": {
        "id": "3q5wnI3om9sJ"
      },
      "execution_count": null,
      "outputs": []
    },
    {
      "cell_type": "code",
      "source": [
        "# Dataset Columns\n",
        "app.columns"
      ],
      "metadata": {
        "id": "j7xfkqrt5Ag5"
      },
      "execution_count": null,
      "outputs": []
    },
    {
      "cell_type": "code",
      "source": [
        "# App Statistics Overview\n",
        "app.describe(include = 'all')"
      ],
      "metadata": {
        "id": "DnOaZdaE5Q5t"
      },
      "execution_count": null,
      "outputs": []
    },
    {
      "cell_type": "code",
      "source": [
        "#Unique Value Counts\n",
        "for i in app.columns.tolist():\n",
        "  print(\"The Uniques values are\",i, \":\" , app[i].nunique())"
      ],
      "metadata": {
        "id": "zms12Yq5n-jE"
      },
      "execution_count": null,
      "outputs": []
    },
    {
      "cell_type": "code",
      "source": [
        "# Data Cleaning\n",
        "app.dropna(how = 'any',inplace  =True)"
      ],
      "metadata": {
        "id": "tXQSscSa0zG2"
      },
      "execution_count": null,
      "outputs": []
    },
    {
      "cell_type": "code",
      "source": [
        "# Duplicate Apps Count\n",
        "print(\"The Number of unique apps\" , len(app['App'].unique()))\n",
        "print(\"Number of total apps\", app.shape[0])\n",
        "print(\"The number of duplicate apps\", len(app['App']) - len(app['App'].unique()))"
      ],
      "metadata": {
        "id": "YWaSGltufv2w"
      },
      "execution_count": null,
      "outputs": []
    },
    {
      "cell_type": "code",
      "source": [
        "#Remove Duplicate Apps\n",
        "app.drop_duplicates(subset = 'App', keep = 'first', inplace = True)"
      ],
      "metadata": {
        "id": "MSU_t_7grJPA"
      },
      "execution_count": null,
      "outputs": []
    },
    {
      "cell_type": "markdown",
      "source": [
        "### What did you know about your dataset?"
      ],
      "metadata": {
        "id": "H0kj-8xxnORC"
      }
    },
    {
      "cell_type": "markdown",
      "source": [
        "The dataset is a Play Store app review analysis dataset that consists of the following columns:\n",
        "\n",
        "\n",
        "\n",
        "* App\n",
        "* Category\n",
        "* Rating\n",
        "* Reviews\n",
        "* Size\n",
        "* Installs\n",
        "* Type\n",
        "* Price\n",
        "* Content Rating\n",
        "* Genres\n",
        "* Last Updated\n",
        "* Current Ver\n",
        "* Android Ver\n",
        "\n",
        "This data can give us insights into various aspects of the apps available on the Play Store, including the popularity of certain apps, the ratings and reviews received by the apps, and the different characteristics of the apps such as size, type, price, content rating, etc. This information can be useful for app developers, app marketers, and anyone else who is interested in understanding the Play Store app ecosystem."
      ],
      "metadata": {
        "id": "gfoNAAC-nUe_"
      }
    },
    {
      "cell_type": "markdown",
      "source": [
        "### Variables Description "
      ],
      "metadata": {
        "id": "PBTbrJXOngz2"
      }
    },
    {
      "cell_type": "markdown",
      "source": [
        "* **Apps           :** There are 9660 apps.\n",
        "* **Category       :** 34 categories are present.\n",
        "* **Ratings        :** Number of Ratings are 9367.\n",
        "* **Reviews        :** Number of Reviews are 6002.\n",
        "* **Type           :** There # unique Types.\n",
        "* **Genre          :** There are 120 types of genres.\n",
        "* **Size           :** The size of the app\n",
        "* **Install        :** The number of installs of the app\n",
        "* **The price of the app (0 if it is Free)**\n",
        "* **Content Rating :**The appropiate target audience of the app\n",
        "* **Last Updated   :** The date when the app was last updated\n",
        "* **Current Ver    :** The current version of the app\n",
        "* **Android Ver    :** The minimum Android version required to run the app"
      ],
      "metadata": {
        "id": "aJV4KIxSnxay"
      }
    },
    {
      "cell_type": "markdown",
      "source": [
        "---"
      ],
      "metadata": {
        "id": "8PSEOzCLD_uC"
      }
    },
    {
      "cell_type": "markdown",
      "source": [
        "# **Beginning with Analysis and Data Visualization**"
      ],
      "metadata": {
        "id": "cCG8EFZniFe_"
      }
    },
    {
      "cell_type": "markdown",
      "source": [
        "## **Analysis on Category and Rating**"
      ],
      "metadata": {
        "id": "O2TQYQZtJmvD"
      }
    },
    {
      "cell_type": "code",
      "source": [
        "#Which category have most apps\n",
        "\n",
        "category_ = app['Category'].value_counts().reset_index().head(23)\n",
        "category_.columns = ['Category_Name', 'Count']\n",
        "\n",
        "sns.set(rc={'figure.figsize':(10, 8)})\n",
        "sns.set_style('whitegrid')\n",
        "\n",
        "g = sns.barplot(x='Count', y='Category_Name', data=category_)\n",
        "g.set_xlabel(\"Count\", fontsize=15)\n",
        "g.set_ylabel(\"Category Name\", fontsize=15)\n",
        "g.set_title(\"Number of Apps per Category\", fontsize=20)\n",
        "\n",
        "plt.show()\n"
      ],
      "metadata": {
        "id": "a98VGfFX2qNj"
      },
      "execution_count": null,
      "outputs": []
    },
    {
      "cell_type": "markdown",
      "source": [
        "### **1. Why did you pick the specific chart?**\n",
        "\n",
        "=> I picked a bar chart because it is an effective way to represent the count  of elements in each category. The bar chart clearly shows the count of apps in each category and helps to visualize the data in a simple and straightforward manner.\n",
        "\n"
      ],
      "metadata": {
        "id": "JtlTA5Vg8AL5"
      }
    },
    {
      "cell_type": "markdown",
      "source": [
        "### **2. What is/are the insight(s) found from the chart?**\n",
        "\n",
        "=> The insight that we can gather from the chart is that some categories have a larger number of apps compared to others. For example, the \"FAMILY\" and \"GAME\" categories have the largest number of apps, while categories such as \"EVENTS\" and \"BEAUTY\" have relatively fewer apps.\n",
        "\n"
      ],
      "metadata": {
        "id": "XCLJeL2s9K8V"
      }
    },
    {
      "cell_type": "markdown",
      "source": [
        "### **3. Will the gained insights help creating a positive business impact?**\n",
        "\n",
        "=> The insights from the chart can be useful for business as they provide a clear understanding of the market share for different categories. For example, if a business is interested in developing an app for the \"FAMILY\" category, they would know that there are already a significant number of apps in this category and that the competition is likely to be high. On the other hand, if a business is interested in developing an app for a category with fewer apps, they might have more opportunities to differentiate their app and capture market share.\n",
        "\n"
      ],
      "metadata": {
        "id": "qIhA-a4a9Ph3"
      }
    },
    {
      "cell_type": "markdown",
      "source": [
        "### **4. Are there any insights that lead to negative growth? Justify with specific reason.**\n",
        "\n",
        "=> No, the insights from the chart do not necessarily lead to negative growth.  However, it is possible that businesses might face challenges in a highly competitive category with many apps. But this can be overcome with good marketing and a well-designed app that stands out from the competition."
      ],
      "metadata": {
        "id": "p0MN3BS79Ri6"
      }
    },
    {
      "cell_type": "code",
      "source": [],
      "metadata": {
        "id": "GIjEeCWj9KUc"
      },
      "execution_count": null,
      "outputs": []
    },
    {
      "cell_type": "markdown",
      "source": [
        "##### We can quickly determine which category in the visualisation above has the greatest number of apps.\n",
        "Why did you pick the specific chart?\n",
        "What is/are the insight(s) found from the chart?\n",
        "Will the gained insights help creating a positive business impact? \n",
        "Are there any insights that lead to negative growth? Justify with specific reason.\n",
        "---\n",
        "\n"
      ],
      "metadata": {
        "id": "4pHq2e3rk-AR"
      }
    },
    {
      "cell_type": "code",
      "source": [
        "#Density of rating\n",
        "\n",
        "rating_df = app[~app['Rating'].isna()]['Rating']\n",
        "sns.set(rc={'figure.figsize':(8, 6)})\n",
        "sns.set_style('whitegrid')\n",
        "\n",
        "g = sns.distplot(rating_df, hist=True)\n",
        "g.set_xlabel(\"Rating\", fontsize=15)\n",
        "g.set_ylabel(\"Density\", fontsize=15)\n",
        "g.set_title(\"Density of Ratings\", fontsize=20)\n",
        "\n",
        "plt.show()\n"
      ],
      "metadata": {
        "id": "BzPIYQfUDFjn"
      },
      "execution_count": null,
      "outputs": []
    },
    {
      "cell_type": "markdown",
      "source": [
        "### **1. Why did you pick the specific chart?**\n",
        "The specific chart was picked to visualize the density of app ratings on the Google Play Store.\n",
        "\n"
      ],
      "metadata": {
        "id": "5tzpDN8t9-Sz"
      }
    },
    {
      "cell_type": "markdown",
      "source": [
        "### **2. What is/are the insight(s) found from the chart?**\n",
        "The insight found from the chart is that most of the apps have a rating of 4 to 5 stars, with a slight concentration towards the higher end. There is a sharp drop in the density of ratings beyond 4.5 stars, which suggests that very few apps receive a perfect rating.\n"
      ],
      "metadata": {
        "id": "0VaUdO58-PzB"
      }
    },
    {
      "cell_type": "markdown",
      "source": [
        "\n",
        "### **3. Will the gained insights help creating a positive business impact?**\n",
        "Yes, the insights gained from the chart can help in creating a positive business impact as they provide an understanding of the general rating distribution of apps on the Google Play Store. This information can be useful for app developers in improving their app quality to get better ratings and attract more users.\n"
      ],
      "metadata": {
        "id": "J7IcYezF-Qq8"
      }
    },
    {
      "cell_type": "markdown",
      "source": [
        "### **4. Are there any insights that lead to negative growth? Justify with specific reason.**\n",
        "No, there are no insights that lead to negative growth as the chart only provides a visualization of the app rating distribution and does not provide information about the growth of the app."
      ],
      "metadata": {
        "id": "ilx9p2fg-Rbd"
      }
    },
    {
      "cell_type": "markdown",
      "source": [
        "---\n",
        "\n",
        "### App Rating vs Categories.\n"
      ],
      "metadata": {
        "id": "OzAQjHiFlGM3"
      }
    },
    {
      "cell_type": "code",
      "source": [
        "#Top 6 categories and its rating distribution\n",
        "\n",
        "sns.set(rc={'figure.figsize':(18, 12)})\n",
        "sns.set_style('whitegrid')\n",
        "\n",
        "categories = ['GAME', 'FAMILY', 'TOOLS', 'FINANCE', 'PRODUCTIVITY', 'LIFESTYLE']\n",
        "\n",
        "fig, ax = plt.subplots(2, 3, figsize=(18, 12))\n",
        "fig.suptitle(\"Distribution of Ratings across Categories\", fontsize=30, y=1.05)\n",
        "\n",
        "for i, category in enumerate(categories):\n",
        "    row = i // 3\n",
        "    col = i % 3\n",
        "    sns.kdeplot(app[app['Category'] == category]['Rating'], shade=True, ax=ax[row, col])\n",
        "    ax[row, col].set_title(category, fontsize=20)\n",
        "    ax[row, col].set_xlabel(\"Rating\", fontsize=15)\n",
        "    ax[row, col].set_ylabel(\"Density\", fontsize=15)\n",
        "\n",
        "plt.tight_layout()\n",
        "plt.show()\n"
      ],
      "metadata": {
        "id": "xbpz_fPdHcWE"
      },
      "execution_count": null,
      "outputs": []
    },
    {
      "cell_type": "markdown",
      "source": [
        "### **1. Why did you pick the specific chart?**\n",
        "The specific chart was picked to visualize the distribution of ratings for the top 6 app categories in the Google Play Store.\n"
      ],
      "metadata": {
        "id": "vIrnp9zn-9U0"
      }
    },
    {
      "cell_type": "markdown",
      "source": [
        "\n",
        "### **2. What is/are the insight(s) found from the chart?**\n",
        "The insights found from the chart include the distribution of ratings for each of the top 6 app categories in the Google Play Store. It shows the spread of the ratings and identifies the categories with higher density of higher ratings.\n",
        "\n"
      ],
      "metadata": {
        "id": "LOmCh7HP-857"
      }
    },
    {
      "cell_type": "markdown",
      "source": [
        "### **3. Will the gained insights help creating a positive business impact?**\n",
        "The insights can help app developers and businesses to understand the trends and preferences of users in different categories, and cater to the users' demands by improving the app quality. This could lead to a positive impact on the app ratings and overall business performance.\n",
        "\n"
      ],
      "metadata": {
        "id": "zpDOCBjC-8kF"
      }
    },
    {
      "cell_type": "markdown",
      "source": [
        "### **4. Are there any insights that lead to negative growth? Justify with specific reason.**\n",
        "The insights from this chart alone do not lead to negative growth. However, if the app developers and businesses find that their app has a lower rating compared to other apps in the same category, it could indicate areas for improvement and lead to negative growth if not addressed properly."
      ],
      "metadata": {
        "id": "rGc7DZGf7HF1"
      }
    },
    {
      "cell_type": "markdown",
      "source": [
        "## **Analysis on content rating and Installs** Install review remaining"
      ],
      "metadata": {
        "id": "56G69N0yJXQf"
      }
    },
    {
      "cell_type": "code",
      "source": [
        "#Distribution of Content rating\n",
        "content_rating = app['Content Rating'].value_counts()\n",
        "plt.figure(figsize = (8,8))\n",
        "content_rating.plot(kind = 'pie', fontsize = 10, explode = (0.1,0.2,0.3,0.4,0.7,0.1), autopct = '%1.2f%%', pctdistance=1.1, labeldistance = 1.192)\n",
        "plt.legend(title = \"Content Rating\")\n",
        "plt.show()"
      ],
      "metadata": {
        "id": "Y2oOKLSMG-Tj"
      },
      "execution_count": null,
      "outputs": []
    },
    {
      "cell_type": "markdown",
      "source": [
        "### **1. Why did you pick the specific chart?**\n",
        "I picked a pie chart to display the distribution of Content Rating categories in the Play Store app data."
      ],
      "metadata": {
        "id": "QgBfIhNDEV32"
      }
    },
    {
      "cell_type": "markdown",
      "source": [
        "### **2. What is/are the insight(s) found from the chart?**\n",
        "The pie chart shows that the majority of the apps (around 44%) have a \"Everyone\" Content Rating, followed by \"Teen\" at around 21%. The rest of the Content Rating categories have much lower proportions."
      ],
      "metadata": {
        "id": "dJdldrrWEVbv"
      }
    },
    {
      "cell_type": "markdown",
      "source": [
        "### **3. Will the gained insights help creating a positive business impact?**\n",
        "Yes, this information can be useful for app developers and marketers to understand the target audience for their app and to ensure that the app's content aligns with the appropriate Content Rating category."
      ],
      "metadata": {
        "id": "2bb3Oya-EVAR"
      }
    },
    {
      "cell_type": "markdown",
      "source": [
        "### **4. Are there any insights that lead to negative growth? Justify with specific reason.**\n",
        "No, this pie chart does not indicate any negative growth. It only provides information about the distribution of Content Rating categories in the Play Store app data, which is a neutral piece of information."
      ],
      "metadata": {
        "id": "WlPZ-pnyNW7W"
      }
    },
    {
      "cell_type": "markdown",
      "source": [
        "---\n",
        "\n",
        "\n"
      ],
      "metadata": {
        "id": "UhKvNDSNm5IY"
      }
    },
    {
      "cell_type": "code",
      "source": [
        "# Which app category has the highest number of installs\n",
        "app['Installs'] = app['Installs'].str.replace(\"+\",\"\")\n",
        "app['Installs'] = app['Installs'].str.replace(\",\",\"\")\n",
        "app['Installs'] = app['Installs'].astype(int)\n"
      ],
      "metadata": {
        "id": "nQ_ANYP8GD0q"
      },
      "execution_count": null,
      "outputs": []
    },
    {
      "cell_type": "code",
      "source": [
        "#\n",
        "plt.figure(figsize=(8, 6))\n",
        "sns.boxplot(x='Type', y='Installs', data=app)\n",
        "plt.xlabel(\"Type\", fontsize=15)\n",
        "plt.ylabel(\"Installs\", fontsize=15)\n",
        "plt.yscale('log')\n",
        "plt.title(\"Installs vs Type\", fontsize=20)\n",
        "plt.show()\n"
      ],
      "metadata": {
        "id": "W67fzo30FGkL"
      },
      "execution_count": null,
      "outputs": []
    },
    {
      "cell_type": "markdown",
      "source": [
        "---"
      ],
      "metadata": {
        "id": "ANOKakzrESEk"
      }
    },
    {
      "cell_type": "code",
      "source": [
        "#This figure compares ratings and installs to show whether or not the installs have an impact on the rating\n",
        "plt.figure(figsize=(18,9))\n",
        "\n",
        "f = sns.violinplot(x = app['Installs'], y = app['Rating'])\n",
        "f.set_xticklabels(f.get_xticklabels(), rotation = 90)\n",
        "plt.show()"
      ],
      "metadata": {
        "id": "bkMDZ1QdpC70"
      },
      "execution_count": null,
      "outputs": []
    },
    {
      "cell_type": "markdown",
      "source": [
        "##### ****"
      ],
      "metadata": {
        "id": "DjyEOgeCnENw"
      }
    },
    {
      "cell_type": "markdown",
      "source": [
        "---\n",
        "\n",
        "## **Analyse on Rating and Reviews.**\n",
        "\n"
      ],
      "metadata": {
        "id": "Gf-zVMND8IkW"
      }
    },
    {
      "cell_type": "code",
      "source": [
        "#Top 20 apps with most reviews\n",
        "app['Reviews'] = app['Reviews'].astype(int)\n",
        "print(\"Top 20 apps with most reviews: \\n\",app[app['Reviews'] > 10000000].sort_values(by = 'Reviews').head(20)['App'])"
      ],
      "metadata": {
        "id": "fptg5TEFpC00"
      },
      "execution_count": null,
      "outputs": []
    },
    {
      "cell_type": "code",
      "source": [
        "#chart comparing ratings and reviews\n",
        "sns.jointplot(x='Reviews',y='Rating',data =app[app['Reviews']>100000],color='darkgreen')\n",
        "plt.title(\"More than 1M\")\n",
        "plt.show()\n",
        "\n",
        "sns.jointplot(x='Reviews',y='Rating',data =app[app['Reviews']<100000],color ='darkorange')\n",
        "plt.title(\"Below than 1M\")\n",
        "plt.show()"
      ],
      "metadata": {
        "id": "ICwvRdk8pCxH"
      },
      "execution_count": null,
      "outputs": []
    },
    {
      "cell_type": "markdown",
      "source": [
        "### **Conclusion in brief: **\n",
        "##### The rating scale for \"Below 1M\" Reviews runs from 1 to 5. However, as we can see under \"more than 1M,\" the ratings range from 3 up to 4.9, thus we can draw the conclusion that the most-reviewed apps are probably the ones with the best ratings.\n",
        "\n",
        "---\n",
        "\n",
        "\n"
      ],
      "metadata": {
        "id": "okabC2j4EZer"
      }
    },
    {
      "cell_type": "markdown",
      "source": [
        "---\n",
        "## **Percentage of Free and Paid Type**       category wise "
      ],
      "metadata": {
        "id": "VsOkzLhiGNkw"
      }
    },
    {
      "cell_type": "code",
      "source": [
        "a= app['Type'].value_counts().reset_index()\n",
        "plt.pie(x = a['Type'], labels = a['index'], autopct = '%1.1f%%', shadow = True, startangle = 90, explode = (0.25, 0))\n",
        "plt.show()"
      ],
      "metadata": {
        "id": "u_s9QtEzpCWl"
      },
      "execution_count": null,
      "outputs": []
    },
    {
      "cell_type": "markdown",
      "source": [
        "##### **From above Pieplot we can conclude - Playstore have 7.4% paid apps**"
      ],
      "metadata": {
        "id": "Qu5S-4gyKE6V"
      }
    },
    {
      "cell_type": "markdown",
      "source": [
        "---"
      ],
      "metadata": {
        "id": "DjclNW2lGWSy"
      }
    },
    {
      "cell_type": "markdown",
      "source": [
        "---\n",
        "\n",
        "## **Analysis on Price**"
      ],
      "metadata": {
        "id": "4pyRrsXNZI-A"
      }
    },
    {
      "cell_type": "code",
      "source": [
        "app['Price'] = app['Price'].apply(lambda x: x.replace(\"$\",\"\"))\n",
        "app['Price'] = app['Price'].astype(float)"
      ],
      "metadata": {
        "id": "rygS0esBZHub"
      },
      "execution_count": null,
      "outputs": []
    },
    {
      "cell_type": "code",
      "source": [
        "# sns.kdeplot(x = app['Price'], y = app['Rating'])\n",
        "sns.kdeplot(app[app['Type'] == 'Paid']['Price'], shade  = True)"
      ],
      "metadata": {
        "id": "cIGsD_KReG4k"
      },
      "execution_count": null,
      "outputs": []
    },
    {
      "cell_type": "code",
      "source": [
        "sns.jointplot(x = app[app['Type'] == 'Paid']['Price'], y = app[app['Type'] == 'Paid']['Rating'], color = 'green')"
      ],
      "metadata": {
        "id": "Kc8NGaXshlCN"
      },
      "execution_count": null,
      "outputs": []
    },
    {
      "cell_type": "markdown",
      "source": [
        "## **Analysis on Size**"
      ],
      "metadata": {
        "id": "_4jy953tI4VV"
      }
    },
    {
      "cell_type": "code",
      "source": [
        "app['Size'].unique()"
      ],
      "metadata": {
        "id": "iYdOcBMxEraH"
      },
      "execution_count": null,
      "outputs": []
    },
    {
      "cell_type": "code",
      "source": [
        "app['Size'] = app['Size'].str.replace(\"k\",\"\")\n",
        "app['Size'] = app['Size'].str.replace(\"M\",\"*1000\")\n",
        "app['Size'] = app['Size'].str.replace(\"Varies with device\",\"-1\")\n",
        "app['Size'] = app['Size'].apply(lambda x: eval(x))\n",
        "app['Size'] = app['Size'].replace(-1,np.nan)\n",
        "app['Size'].fillna(np.mean(app['Size']),inplace = True)\n",
        "app['Size']"
      ],
      "metadata": {
        "id": "iYqe14b4ErU2"
      },
      "execution_count": null,
      "outputs": []
    },
    {
      "cell_type": "code",
      "source": [
        "plt.figure(figsize = (18,9))\n",
        "sns.distplot(app['Size'])\n",
        "plt.xlabel(\"Size in kbs\")\n",
        "plt.xticks(list(range(0, int(max(app['Size'])), 5000)))\n",
        "plt.show()"
      ],
      "metadata": {
        "id": "W7oTtdiVErEk"
      },
      "execution_count": null,
      "outputs": []
    },
    {
      "cell_type": "markdown",
      "source": [
        "## **Analysis on User Reviews**"
      ],
      "metadata": {
        "id": "2ZJI43e4Jrd0"
      }
    },
    {
      "cell_type": "code",
      "source": [
        "rev.dropna(inplace = True)\n",
        "rev"
      ],
      "metadata": {
        "id": "5FnRa8wqKZYR"
      },
      "execution_count": null,
      "outputs": []
    },
    {
      "cell_type": "code",
      "source": [
        "positive_rev = rev[rev['Sentiment'] == 'Positive'].groupby(['App','Sentiment']).size().sort_values(ascending = False).reset_index().head(20)\n",
        "positive_rev.rename(columns = {0:\"count\"},inplace = True)\n",
        "positive_rev"
      ],
      "metadata": {
        "id": "sCqK0dzP1FuX"
      },
      "execution_count": null,
      "outputs": []
    },
    {
      "cell_type": "code",
      "source": [
        "negative_rev = rev[rev['Sentiment'] == 'Negative'].groupby(['App','Sentiment']).size().sort_values(ascending = False).reset_index().head(20)\n",
        "negative_rev.rename(columns = {0:\"count\"}, inplace = True)\n",
        "negative_rev"
      ],
      "metadata": {
        "id": "hdsaL2g43Bab"
      },
      "execution_count": null,
      "outputs": []
    },
    {
      "cell_type": "code",
      "source": [
        "neutral_rev = rev[rev['Sentiment'] == 'Neutral'].groupby(['App','Sentiment']).size().sort_values(ascending = False)"
      ],
      "metadata": {
        "id": "_JINSB8V3SPw"
      },
      "execution_count": null,
      "outputs": []
    },
    {
      "cell_type": "code",
      "source": [
        "merged_rev = pd.merge(positive_rev['Sentiment'],negative_rev['Sentiment'],how = 'outer', on = positive_rev['App'])\n",
        "merged_rev['Sentiment'] = merged_rev['Sentiment_x'] + ' - ' + merged_rev['Sentiment_y']\n",
        "merged_rev"
      ],
      "metadata": {
        "id": "JTHQhGiW32R1"
      },
      "execution_count": null,
      "outputs": []
    },
    {
      "cell_type": "code",
      "source": [
        "grouped = merged_rev.groupby(['key_0', 'Sentiment']).size().reset_index(name='counts')\n",
        "sns.barplot(x='key_0', y='counts', hue='Sentiment', data=grouped)"
      ],
      "metadata": {
        "id": "1Sh-jXlw_-VV"
      },
      "execution_count": null,
      "outputs": []
    },
    {
      "cell_type": "code",
      "source": [
        "# plot the relationship between app content rating and number of installs using a boxplot\n",
        "sns.boxplot(x='Content Rating', y='Installs', data=app)\n",
        "plt.xlabel('Content Rating')\n",
        "plt.ylabel('Number of Installs')\n",
        "plt.title('Relationship between App Content Rating and Number of Installs')\n",
        "plt.xticks(rotation=90)\n",
        "plt.show()"
      ],
      "metadata": {
        "id": "Ef18ztv_FHY3"
      },
      "execution_count": null,
      "outputs": []
    },
    {
      "cell_type": "code",
      "source": [
        "# plot the relationship between app category and number of installs using a violinplot\n",
        "sns.violinplot(x='Category', y='Installs', data=app)\n",
        "plt.xlabel('App Category')\n",
        "plt.ylabel('Number of Installs')\n",
        "plt.title('Relationship between App Category and Number of Installs')\n",
        "plt.xticks(rotation=90)\n",
        "plt.show()\n",
        "\n"
      ],
      "metadata": {
        "id": "nnwG2TcMFHNO"
      },
      "execution_count": null,
      "outputs": []
    },
    {
      "cell_type": "code",
      "source": [
        "# plot the relationship between app price and rating using a scatterplot\n",
        "sns.scatterplot(x='Price', y='Rating', data=app)\n",
        "plt.xlabel('Price (in $)')\n",
        "plt.ylabel('Rating')\n",
        "plt.title('Relationship between App Price and Rating')\n",
        "plt.show()\n",
        "\n"
      ],
      "metadata": {
        "id": "Ozj5W8VaFHBg"
      },
      "execution_count": null,
      "outputs": []
    },
    {
      "cell_type": "code",
      "source": [
        "# plot the relationship between app type and number of installs using a boxplot\n",
        "sns.boxplot(x='Type', y='Installs', data=app)\n",
        "plt.xlabel('Type (Free/Paid)')\n",
        "plt.ylabel('Number of Installs')\n",
        "plt.title('Relationship between App Type and Number of Installs')\n",
        "plt.show()\n",
        "\n"
      ],
      "metadata": {
        "id": "oi3Nl5xcFGzU"
      },
      "execution_count": null,
      "outputs": []
    },
    {
      "cell_type": "code",
      "source": [
        "# plot the distribution of required Android versions using a histogram\n",
        "sns.histplot(x='Android Ver', data=app, bins=10)\n",
        "plt.xlabel('Required Android Version')\n",
        "plt.ylabel('Frequency')\n",
        "plt.title('Distribution of Required Android Versions')\n",
        "plt.show()\n",
        "\n",
        "\n"
      ],
      "metadata": {
        "id": "E9S5niYmFGoe"
      },
      "execution_count": null,
      "outputs": []
    },
    {
      "cell_type": "code",
      "source": [
        "# plot the relationship between current version and last updated date using a lineplot\n",
        "sns.lineplot(x='Current Ver', y='Last Updated', data=app)\n",
        "plt.xlabel('Current Version')\n",
        "plt.ylabel('Last Updated Date')\n",
        "plt.title('Relationship between Current Version and Last Updated Date')\n",
        "plt.show()"
      ],
      "metadata": {
        "id": "ZBaEz9dwFGbh"
      },
      "execution_count": null,
      "outputs": []
    },
    {
      "cell_type": "code",
      "source": [
        "# plot the distribution of app genres using a countplot\n",
        "sns.countplot(x='Genres', data=app)\n",
        "plt.xlabel('Genres')\n",
        "plt.ylabel('Frequency')\n",
        "plt.title('Distribution of App Genres')\n",
        "plt.xticks(rotation=90)\n",
        "plt.show()\n",
        "\n",
        "\n",
        "\n"
      ],
      "metadata": {
        "id": "LRV6CxYcFGRX"
      },
      "execution_count": null,
      "outputs": []
    },
    {
      "cell_type": "code",
      "source": [
        "import seaborn as sns\n",
        "\n",
        "# plot the distribution of content ratings using a countplot\n",
        "sns.countplot(x='Content Rating', data=app)\n",
        "plt.xlabel('Content Rating')\n",
        "plt.ylabel('Frequency')\n",
        "plt.title('Distribution of Content Ratings')\n",
        "plt.xticks(rotation=90)\n",
        "plt.show()\n",
        "\n"
      ],
      "metadata": {
        "id": "VIRdofmQFF-j"
      },
      "execution_count": null,
      "outputs": []
    },
    {
      "cell_type": "markdown",
      "source": [
        "##### 1. Why did you pick the specific chart?\n",
        "##### 2. What is/are the insight(s) found from the chart?\n",
        " Will the gained insights help creating a positive business impact? \n",
        "Are there any insights that lead to negative growth? Justify with specific reason."
      ],
      "metadata": {
        "id": "ibQjOWBeP_2t"
      }
    },
    {
      "cell_type": "markdown",
      "source": [
        "## **5. Solution to Business Objective**"
      ],
      "metadata": {
        "id": "JcMwzZxoAimU"
      }
    },
    {
      "cell_type": "markdown",
      "source": [
        "#### What do you suggest the client to achieve Business Objective ? \n",
        "Explain Briefly."
      ],
      "metadata": {
        "id": "8G2x9gOozGDZ"
      }
    },
    {
      "cell_type": "markdown",
      "source": [
        "Answer Here."
      ],
      "metadata": {
        "id": "pASKb0qOza21"
      }
    },
    {
      "cell_type": "markdown",
      "source": [
        "# **Conclusion**"
      ],
      "metadata": {
        "id": "gCX9965dhzqZ"
      }
    },
    {
      "cell_type": "markdown",
      "source": [
        "After analyzing the dataset we have got answers to some of the serious & interesting facts which any of the android users would love to know.\n",
        "\n",
        "\n",
        "\n",
        "*   Top Genres on Google Play store.\n",
        " \n",
        "*   Top Categories on Google Play store.\n",
        "\n",
        "*   Which Category of Content is downloaded more?\n",
        "\n",
        "*   Which category of apps has the most number of installs?\n",
        "\n",
        "*   What are the Top 10 installed apps in different categories?\n",
        "\n",
        "*   Distribution of the ratings of the apps\n",
        "\n",
        "*   Variation between Free and Paid apps\n",
        "\n",
        "*   Which are the top expensive Apps?\n",
        "\n",
        "*   Distribution of the Price of the apps\n",
        "\n",
        "*   Which are the apps that have made the highest-earning?\n",
        "\n",
        "*   Which are the Apps with the highest number of reviews?"
      ],
      "metadata": {
        "id": "Fjb1IsQkh3yE"
      }
    },
    {
      "cell_type": "markdown",
      "source": [
        "\n",
        "\n",
        "```\n",
        "# This is formatted as code\n",
        "```\n",
        "\n",
        "### ***Hurrah! You have successfully completed your EDA Capstone Project !!!***"
      ],
      "metadata": {
        "id": "gIfDvo9L0UH2"
      }
    }
  ]
}